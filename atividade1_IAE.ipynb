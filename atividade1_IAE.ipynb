{
  "nbformat": 4,
  "nbformat_minor": 0,
  "metadata": {
    "colab": {
      "provenance": [],
      "authorship_tag": "ABX9TyPgV+LjE7PmYs7AIWQHz427",
      "include_colab_link": true
    },
    "kernelspec": {
      "name": "python3",
      "display_name": "Python 3"
    },
    "language_info": {
      "name": "python"
    }
  },
  "cells": [
    {
      "cell_type": "markdown",
      "metadata": {
        "id": "view-in-github",
        "colab_type": "text"
      },
      "source": [
        "<a href=\"https://colab.research.google.com/github/RomuloAlves2507/TrabalhoIA_unila_/blob/main/atividade1_IAE.ipynb\" target=\"_parent\"><img src=\"https://colab.research.google.com/assets/colab-badge.svg\" alt=\"Open In Colab\"/></a>"
      ]
    },
    {
      "cell_type": "markdown",
      "source": [
        "from google.colab import drive\n",
        "drive.mount('/content/drive')"
      ],
      "metadata": {
        "id": "y1a4e4RNfNJW"
      }
    },
    {
      "cell_type": "code",
      "execution_count": null,
      "metadata": {
        "id": "7FUUqreReHfi"
      },
      "outputs": [],
      "source": [
        "import pandas as pd\n",
        "import matplotlib.pyplot as plt\n",
        "\n",
        "nomeArquivo = [\"CE.txt\", \"CP.txt\", \"EPS1.txt\", \"FS1.txt\", \"FS2.txt\", \"PS1.txt\", \"PS2.txt\", \"PS3.txt\", \"PS4.txt\", \"PS5.txt\", \"PS6.txt\", \"SE.txt\", \"TS1.txt\", \"TS2.txt\", \"TS3.txt\", \"TS4.txt\", \"VS1.txt\"]\n",
        "caminho = \"/content/drive/MyDrive/Unila/Ia/Data/\""
      ]
    },
    {
      "cell_type": "markdown",
      "source": [
        "Montando o drive\n"
      ],
      "metadata": {
        "id": "IQw5_k2TmWfv"
      }
    },
    {
      "cell_type": "code",
      "source": [
        "from google.colab import drive\n",
        "drive.mount('/content/drive')"
      ],
      "metadata": {
        "colab": {
          "base_uri": "https://localhost:8080/"
        },
        "id": "iOxi0oX1ih_F",
        "outputId": "ad25ef5e-4a8e-4da8-d147-61e632dec561"
      },
      "execution_count": null,
      "outputs": [
        {
          "output_type": "stream",
          "name": "stdout",
          "text": [
            "Mounted at /content/drive\n"
          ]
        }
      ]
    },
    {
      "cell_type": "code",
      "source": [
        "filename = caminho + nomeArquivo[0]"
      ],
      "metadata": {
        "collapsed": true,
        "id": "2wmKokM2mDI2"
      },
      "execution_count": null,
      "outputs": []
    },
    {
      "cell_type": "code",
      "source": [
        "data = open(filename, \"r\")"
      ],
      "metadata": {
        "collapsed": true,
        "id": "fJt33kJ6m_hN"
      },
      "execution_count": null,
      "outputs": []
    },
    {
      "cell_type": "code",
      "source": [
        "i=0\n",
        "print(data.readline())\n",
        "for linha in data.read():\n",
        "  print(linha)\n"
      ],
      "metadata": {
        "colab": {
          "base_uri": "https://localhost:8080/"
        },
        "id": "fHijeKGuMt1R",
        "outputId": "a064c942-6d45-4f7a-edad-8dab0db64c9f"
      },
      "execution_count": null,
      "outputs": [
        {
          "output_type": "stream",
          "name": "stdout",
          "text": [
            "\n"
          ]
        }
      ]
    },
    {
      "cell_type": "code",
      "source": [
        "for i, col in enumerate(data.columns):\n",
        "    print(f\"Coluna {i+1}: {col}\")"
      ],
      "metadata": {
        "colab": {
          "base_uri": "https://localhost:8080/"
        },
        "collapsed": true,
        "id": "jYjyw-dtoowu",
        "outputId": "09441118-4f2f-482a-b71a-e584b6e3d156"
      },
      "execution_count": null,
      "outputs": [
        {
          "output_type": "stream",
          "name": "stdout",
          "text": [
            "Coluna 1: 47.202\t47.273\t47.25\t47.332\t47.213\t47.372\t47.273\t47.438\t46.691\t46.599\t46.623\t46.653\t46.136\t46.127\t45.948\t45.935\t45.726\t45.139\t44.978\t44.937\t44.269\t44.079\t43.741\t43.375\t42.847\t42.322\t42.322\t41.797\t41.406\t40.924\t40.427\t39.857\t39.517\t38.999\t38.493\t37.954\t37.552\t37.084\t36.615\t36.098\t35.58\t35.141\t34.184\t34.177\t33.739\t33.226\t32.913\t32.4\t31.833\t31.862\t31.554\t30.953\t30.639\t30.561\t30.368\t30.224\t29.79\t29.261\t29.287\t28.866\n"
          ]
        }
      ]
    },
    {
      "cell_type": "code",
      "source": [
        "dado_faltando = data.isnull().sum()\n",
        "print(dado_faltando)"
      ],
      "metadata": {
        "id": "XSO0qf14sOSX",
        "outputId": "47039120-13aa-40f7-c0b2-51ffb4d1521a",
        "colab": {
          "base_uri": "https://localhost:8080/"
        }
      },
      "execution_count": null,
      "outputs": [
        {
          "output_type": "stream",
          "name": "stdout",
          "text": [
            "47.202\\t47.273\\t47.25\\t47.332\\t47.213\\t47.372\\t47.273\\t47.438\\t46.691\\t46.599\\t46.623\\t46.653\\t46.136\\t46.127\\t45.948\\t45.935\\t45.726\\t45.139\\t44.978\\t44.937\\t44.269\\t44.079\\t43.741\\t43.375\\t42.847\\t42.322\\t42.322\\t41.797\\t41.406\\t40.924\\t40.427\\t39.857\\t39.517\\t38.999\\t38.493\\t37.954\\t37.552\\t37.084\\t36.615\\t36.098\\t35.58\\t35.141\\t34.184\\t34.177\\t33.739\\t33.226\\t32.913\\t32.4\\t31.833\\t31.862\\t31.554\\t30.953\\t30.639\\t30.561\\t30.368\\t30.224\\t29.79\\t29.261\\t29.287\\t28.866    0\n",
            "dtype: int64\n"
          ]
        }
      ]
    },
    {
      "cell_type": "code",
      "source": [
        "import pandas as pd\n",
        "from sklearn.model_selection import train_test_split\n",
        "from sklearn.preprocessing import StandardScaler\n",
        "from sklearn.pipeline import Pipeline\n",
        "from sklearn.linear_model import LogisticRegression\n",
        "from sklearn.decomposition import PCA\n",
        "from sklearn.metrics import accuracy_score, classification_report, confusion_matrix\n",
        "import matplotlib.pyplot as plt\n",
        "import seaborn as sns\n",
        "import numpy as np\n",
        "\n",
        "# Supondo que a matriz 'X' foi carregada e combinada no passo anterior\n",
        "# X.shape deveria ser (2205, 43680)\n",
        "\n",
        "# --- Etapa 1: Carregar as Variáveis-Alvo (y) ---\n",
        "print(\"--- Etapa 1: Carregando as variáveis-alvo ---\")\n",
        "caminho_profile = os.path.join(caminho, \"profile.txt\")\n",
        "\n",
        "# Definindo os nomes das colunas conforme o relatório\n",
        "target_cols = ['cooler_condition', 'valve_condition', 'pump_leakage', 'accumulator_pressure', 'stable_flag']\n",
        "targets_df = pd.read_csv(caminho_profile, header=None, sep='\\s+', names=target_cols)\n",
        "\n",
        "print(\"Arquivo 'profile.txt' carregado com sucesso.\")\n",
        "print(f\"Dimensões do DataFrame de alvos: {targets_df.shape}\")\n",
        "print(\"-\" * 30, \"\\n\")\n",
        "\n",
        "\n",
        "# --- Etapa 2: Filtrar Dados por Condição Estável ---\n",
        "print(\"--- Etapa 2: Filtrando dados para ciclos estáveis ---\")\n",
        "# [cite_start]O seu relatório menciona que o 'stable_flag' pode ser usado para filtrar os dados [cite: 390]\n",
        "# [cite_start]0: Condições estáveis (1449 instâncias) [cite: 458]\n",
        "# [cite_start]1: Condições instáveis (756 instâncias) [cite: 459]\n",
        "stable_indices = targets_df[targets_df['stable_flag'] == 0].index\n",
        "\n",
        "# Filtrando tanto X quanto targets_df para manter apenas os dados estáveis\n",
        "X_stable = X.loc[stable_indices]\n",
        "targets_stable = targets_df.loc[stable_indices]\n",
        "\n",
        "print(f\"Dados filtrados. Novas dimensões de X: {X_stable.shape}\")\n",
        "print(f\"Novas dimensões dos alvos: {targets_stable.shape}\")\n",
        "print(\"-\" * 30, \"\\n\")\n",
        "\n",
        "\n",
        "# --- Etapa 3: Definir o Alvo e Dividir os Dados ---\n",
        "print(\"--- Etapa 3: Definindo o alvo e dividindo os dados ---\")\n",
        "# [cite_start]Vamos focar no primeiro alvo: Condição do Resfriador (cooler_condition) [cite: 438]\n",
        "y = targets_stable['cooler_condition']\n",
        "\n",
        "# Dividindo os dados em treino (70%) e teste (30%)\n",
        "# 'stratify=y' garante que a proporção das classes seja a mesma nos conjuntos de treino e teste\n",
        "X_train, X_test, y_train, y_test = train_test_split(\n",
        "    X_stable, y, test_size=0.3, random_state=42, stratify=y\n",
        ")\n",
        "\n",
        "print(f\"Dados divididos em treino e teste:\")\n",
        "print(f\"X_train shape: {X_train.shape}\")\n",
        "print(f\"X_test shape: {X_test.shape}\")\n",
        "print(\"-\" * 30, \"\\n\")\n",
        "\n",
        "\n",
        "# --- Etapa 4: Construir e Treinar o Pipeline do Modelo ---\n",
        "print(\"--- Etapa 4: Construindo e treinando o pipeline ---\")\n",
        "# O pipeline irá:\n",
        "# 1. Padronizar os dados (StandardScaler)\n",
        "# 2. Reduzir a dimensionalidade (PCA)\n",
        "# 3. Treinar o classificador (LogisticRegression)\n",
        "pipeline = Pipeline([\n",
        "    ('scaler', StandardScaler()),\n",
        "    ('pca', PCA(n_components=50)),\n",
        "    ('classifier', LogisticRegression(max_iter=1000, random_state=42))\n",
        "])\n",
        "\n",
        "# Treinando o pipeline com os dados de treino\n",
        "pipeline.fit(X_train, y_train)\n",
        "\n",
        "print(\"Modelo treinado com sucesso!\")\n",
        "print(\"-\" * 30, \"\\n\")\n",
        "\n",
        "\n",
        "# --- Etapa 5: Fazer Predições e Avaliar o Modelo ---\n",
        "print(\"--- Etapa 5: Fazendo predições e avaliando o modelo ---\")\n",
        "# Fazendo predições no conjunto de teste\n",
        "y_pred = pipeline.predict(X_test)\n",
        "\n",
        "# [cite_start]A meta de desempenho para o Resfriador é > 95% de acurácia [cite: 405]\n",
        "meta_resfriador = 0.95\n",
        "accuracy = accuracy_score(y_test, y_pred)\n",
        "\n",
        "print(f\"Acurácia do Modelo (Resfriador): {accuracy * 100:.2f}%\")\n",
        "\n",
        "if accuracy > meta_resfriador:\n",
        "    print(f\"✅ SUCESSO! A meta de {meta_resfriador*100}% de acurácia foi atingida.\")\n",
        "else:\n",
        "    print(f\"❌ ATENÇÃO! A meta de {meta_resfriador*100}% de acurácia NÃO foi atingida.\")\n",
        "\n",
        "# Relatório de Classificação Detalhado (precisão, recall, f1-score)\n",
        "print(\"\\nRelatório de Classificação:\")\n",
        "print(classification_report(y_test, y_pred))\n",
        "\n",
        "# Matriz de Confusão para visualizar os erros\n",
        "print(\"\\nGerando Matriz de Confusão...\")\n",
        "cm = confusion_matrix(y_test, y_pred)\n",
        "plt.figure(figsize=(8, 6))\n",
        "sns.heatmap(\n",
        "    cm,\n",
        "    annot=True,\n",
        "    fmt='d',\n",
        "    cmap='Blues',\n",
        "    xticklabels=np.unique(y),\n",
        "    yticklabels=np.unique(y)\n",
        ")\n",
        "plt.title('Matriz de Confusão - Condição do Resfriador')\n",
        "plt.xlabel('Classe Predita')\n",
        "plt.ylabel('Classe Verdadeira')\n",
        "plt.show()"
      ],
      "metadata": {
        "colab": {
          "base_uri": "https://localhost:8080/",
          "height": 1000
        },
        "id": "krl35RDNT33Q",
        "outputId": "c5ff809f-74a4-415b-f55f-196071132799"
      },
      "execution_count": null,
      "outputs": [
        {
          "output_type": "stream",
          "name": "stderr",
          "text": [
            "<>:21: SyntaxWarning: invalid escape sequence '\\s'\n",
            "<>:21: SyntaxWarning: invalid escape sequence '\\s'\n",
            "/tmp/ipython-input-1784239306.py:21: SyntaxWarning: invalid escape sequence '\\s'\n",
            "  targets_df = pd.read_csv(caminho_profile, header=None, sep='\\s+', names=target_cols)\n"
          ]
        },
        {
          "output_type": "stream",
          "name": "stdout",
          "text": [
            "--- Etapa 1: Carregando as variáveis-alvo ---\n",
            "Arquivo 'profile.txt' carregado com sucesso.\n",
            "Dimensões do DataFrame de alvos: (2205, 5)\n",
            "------------------------------ \n",
            "\n",
            "--- Etapa 2: Filtrando dados para ciclos estáveis ---\n",
            "Dados filtrados. Novas dimensões de X: (1449, 43680)\n",
            "Novas dimensões dos alvos: (1449, 5)\n",
            "------------------------------ \n",
            "\n",
            "--- Etapa 3: Definindo o alvo e dividindo os dados ---\n",
            "Dados divididos em treino e teste:\n",
            "X_train shape: (1014, 43680)\n",
            "X_test shape: (435, 43680)\n",
            "------------------------------ \n",
            "\n",
            "--- Etapa 4: Construindo e treinando o pipeline ---\n",
            "Modelo treinado com sucesso!\n",
            "------------------------------ \n",
            "\n",
            "--- Etapa 5: Fazendo predições e avaliando o modelo ---\n",
            "Acurácia do Modelo (Resfriador): 100.00%\n",
            "✅ SUCESSO! A meta de 95.0% de acurácia foi atingida.\n",
            "\n",
            "Relatório de Classificação:\n",
            "              precision    recall  f1-score   support\n",
            "\n",
            "           3       1.00      1.00      1.00       144\n",
            "          20       1.00      1.00      1.00       144\n",
            "         100       1.00      1.00      1.00       147\n",
            "\n",
            "    accuracy                           1.00       435\n",
            "   macro avg       1.00      1.00      1.00       435\n",
            "weighted avg       1.00      1.00      1.00       435\n",
            "\n",
            "\n",
            "Gerando Matriz de Confusão...\n"
          ]
        },
        {
          "output_type": "display_data",
          "data": {
            "text/plain": [
              "<Figure size 800x600 with 2 Axes>"
            ],
            "image/png": "[encoded data removed]"
          },
          "metadata": {}
        }
      ]
    },
    {
      "cell_type": "code",
      "source": [],
      "metadata": {
        "id": "7qUK_Er8UPLk"
      },
      "execution_count": null,
      "outputs": []
    }
  ]
}