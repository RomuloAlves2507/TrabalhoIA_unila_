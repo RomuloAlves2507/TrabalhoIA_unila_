{
  "nbformat": 4,
  "nbformat_minor": 0,
  "metadata": {
    "colab": {
      "provenance": [],
      "authorship_tag": "ABX9TyOorEyimjhO/TVyGzBDmILY",
      "include_colab_link": true
    },
    "kernelspec": {
      "name": "python3",
      "display_name": "Python 3"
    },
    "language_info": {
      "name": "python"
    }
  },
  "cells": [
    {
      "cell_type": "markdown",
      "metadata": {
        "id": "view-in-github",
        "colab_type": "text"
      },
      "source": [
        "<a href=\"https://colab.research.google.com/github/RomuloAlves2507/TrabalhoIA_unila_/blob/main/atividade1_IAE.ipynb\" target=\"_parent\"><img src=\"https://colab.research.google.com/assets/colab-badge.svg\" alt=\"Open In Colab\"/></a>"
      ]
    },
    {
      "cell_type": "markdown",
      "source": [
        "from google.colab import drive\n",
        "drive.mount('/content/drive')"
      ],
      "metadata": {
        "id": "y1a4e4RNfNJW"
      }
    },
    {
      "cell_type": "code",
      "execution_count": null,
      "metadata": {
        "id": "7FUUqreReHfi"
      },
      "outputs": [],
      "source": [
        "import pandas as pd\n",
        "import matplotlib.pyplot as plt\n",
        "\n",
        "nomeArquivo = [\"CE.txt\", \"CP.txt\", \"EPS1.txt\", \"FS1.txt\", \"FS2.txt\", \"PS1.txt\", \"PS2.txt\", \"PS3.txt\", \"PS4.txt\", \"PS5.txt\", \"PS6.txt\", \"SE.txt\", \"TS1.txt\", \"TS2.txt\", \"TS3.txt\", \"TS4.txt\", \"VS1.txt\"]\n",
        "caminho = \"/content/drive/MyDrive/Unila/Ia/Data/\""
      ]
    },
    {
      "cell_type": "markdown",
      "source": [
        "Montando o drive\n"
      ],
      "metadata": {
        "id": "IQw5_k2TmWfv"
      }
    },
    {
      "cell_type": "code",
      "source": [
        "from google.colab import drive\n",
        "drive.mount('/content/drive')"
      ],
      "metadata": {
        "colab": {
          "base_uri": "https://localhost:8080/"
        },
        "id": "iOxi0oX1ih_F",
        "outputId": "ad25ef5e-4a8e-4da8-d147-61e632dec561"
      },
      "execution_count": null,
      "outputs": [
        {
          "output_type": "stream",
          "name": "stdout",
          "text": [
            "Mounted at /content/drive\n"
          ]
        }
      ]
    },
    {
      "cell_type": "code",
      "source": [
        "filename = caminho + nomeArquivo[0]"
      ],
      "metadata": {
        "collapsed": true,
        "id": "2wmKokM2mDI2"
      },
      "execution_count": null,
      "outputs": []
    },
    {
      "cell_type": "code",
      "source": [
        "data = open(filename, \"r\")"
      ],
      "metadata": {
        "collapsed": true,
        "id": "fJt33kJ6m_hN"
      },
      "execution_count": null,
      "outputs": []
    },
    {
      "cell_type": "code",
      "source": [
        "i=0\n",
        "print(data.readline())\n",
        "for linha in data.read():\n",
        "  print(linha)\n"
      ],
      "metadata": {
        "colab": {
          "base_uri": "https://localhost:8080/"
        },
        "id": "fHijeKGuMt1R",
        "outputId": "a064c942-6d45-4f7a-edad-8dab0db64c9f"
      },
      "execution_count": null,
      "outputs": [
        {
          "output_type": "stream",
          "name": "stdout",
          "text": [
            "\n"
          ]
        }
      ]
    },
    {
      "cell_type": "code",
      "source": [
        "for i, col in enumerate(data.columns):\n",
        "    print(f\"Coluna {i+1}: {col}\")"
      ],
      "metadata": {
        "colab": {
          "base_uri": "https://localhost:8080/"
        },
        "collapsed": true,
        "id": "jYjyw-dtoowu",
        "outputId": "09441118-4f2f-482a-b71a-e584b6e3d156"
      },
      "execution_count": null,
      "outputs": [
        {
          "output_type": "stream",
          "name": "stdout",
          "text": [
            "Coluna 1: 47.202\t47.273\t47.25\t47.332\t47.213\t47.372\t47.273\t47.438\t46.691\t46.599\t46.623\t46.653\t46.136\t46.127\t45.948\t45.935\t45.726\t45.139\t44.978\t44.937\t44.269\t44.079\t43.741\t43.375\t42.847\t42.322\t42.322\t41.797\t41.406\t40.924\t40.427\t39.857\t39.517\t38.999\t38.493\t37.954\t37.552\t37.084\t36.615\t36.098\t35.58\t35.141\t34.184\t34.177\t33.739\t33.226\t32.913\t32.4\t31.833\t31.862\t31.554\t30.953\t30.639\t30.561\t30.368\t30.224\t29.79\t29.261\t29.287\t28.866\n"
          ]
        }
      ]
    },
    {
      "cell_type": "code",
      "source": [
        "dado_faltando = data.isnull().sum()\n",
        "print(dado_faltando)"
      ],
      "metadata": {
        "id": "XSO0qf14sOSX",
        "outputId": "47039120-13aa-40f7-c0b2-51ffb4d1521a",
        "colab": {
          "base_uri": "https://localhost:8080/"
        }
      },
      "execution_count": null,
      "outputs": [
        {
          "output_type": "stream",
          "name": "stdout",
          "text": [
            "47.202\\t47.273\\t47.25\\t47.332\\t47.213\\t47.372\\t47.273\\t47.438\\t46.691\\t46.599\\t46.623\\t46.653\\t46.136\\t46.127\\t45.948\\t45.935\\t45.726\\t45.139\\t44.978\\t44.937\\t44.269\\t44.079\\t43.741\\t43.375\\t42.847\\t42.322\\t42.322\\t41.797\\t41.406\\t40.924\\t40.427\\t39.857\\t39.517\\t38.999\\t38.493\\t37.954\\t37.552\\t37.084\\t36.615\\t36.098\\t35.58\\t35.141\\t34.184\\t34.177\\t33.739\\t33.226\\t32.913\\t32.4\\t31.833\\t31.862\\t31.554\\t30.953\\t30.639\\t30.561\\t30.368\\t30.224\\t29.79\\t29.261\\t29.287\\t28.866    0\n",
            "dtype: int64\n"
          ]
        }
      ]
    },
    {
      "cell_type": "code",
      "source": [],
      "metadata": {
        "id": "krl35RDNT33Q"
      },
      "execution_count": null,
      "outputs": []
    },
    {
      "cell_type": "code",
      "source": [],
      "metadata": {
        "id": "7qUK_Er8UPLk"
      },
      "execution_count": null,
      "outputs": []
    }
  ]
}